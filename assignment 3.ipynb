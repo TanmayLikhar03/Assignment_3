{
 "cells": [
  {
   "cell_type": "markdown",
   "id": "e659fec7-e136-492d-8e30-2f07673a6df3",
   "metadata": {},
   "source": [
    "Q1. Which keyword is used to create a function? Create a function to return a list of odd numbers in the\n",
    "range of 1 to 25."
   ]
  },
  {
   "cell_type": "markdown",
   "id": "9270d769-5fc6-4710-8f44-8be2c16144cb",
   "metadata": {},
   "source": [
    "The keyword used to create the function is \"def\"."
   ]
  },
  {
   "cell_type": "code",
   "execution_count": 3,
   "id": "85c2ced4-b0a6-4fda-8099-b78166aeffe3",
   "metadata": {},
   "outputs": [
    {
     "name": "stdout",
     "output_type": "stream",
     "text": [
      "[1, 2, 3, 4, 5, 6, 7, 8, 9, 10, 11, 12, 13, 14, 15, 16, 17, 18, 19, 20, 21, 22, 23, 24, 25]\n"
     ]
    }
   ],
   "source": [
    "# To create a list in the range of 1 to 25.\n",
    "l1 = []\n",
    "for i in range (1,26):\n",
    "    l1.append(i)\n",
    "print(l1)"
   ]
  },
  {
   "cell_type": "code",
   "execution_count": 4,
   "id": "5742f3ab-ca16-421e-9f50-154605785a50",
   "metadata": {},
   "outputs": [],
   "source": [
    "# program to create a new list of odd number from the list l1.\n",
    "def odd_num(a):\n",
    "    l2 = []\n",
    "    for i in a:\n",
    "        if i % 2 != 0:\n",
    "            l2.append(i)\n",
    "    return l2"
   ]
  },
  {
   "cell_type": "code",
   "execution_count": 5,
   "id": "9b75af43-1d5c-4f91-8cd5-bde177333509",
   "metadata": {},
   "outputs": [
    {
     "data": {
      "text/plain": [
       "[1, 3, 5, 7, 9, 11, 13, 15, 17, 19, 21, 23, 25]"
      ]
     },
     "execution_count": 5,
     "metadata": {},
     "output_type": "execute_result"
    }
   ],
   "source": [
    "# The output contains the odd number.\n",
    "odd_num(l1)"
   ]
  },
  {
   "cell_type": "markdown",
   "id": "1df6c7c4-72a6-486e-929e-09ac6e730873",
   "metadata": {},
   "source": [
    "Q2. Why *args and **kwargs is used in some functions? Create a function each for *args and **kwargs\n",
    "to demonstrate their use."
   ]
  },
  {
   "cell_type": "markdown",
   "id": "471c17a3-d460-4a90-8df6-ac692f15c374",
   "metadata": {},
   "source": [
    "* args : The * args is used to pass multiple variable number of arguments in the function. The arguments are passed to the function according to the user need.\n",
    "* kargs : The ** kargs is used to pass mutiple variable number of arguments to the function in the from of key-value pair that is dictionary. The arguments passed depends upon the user need."
   ]
  },
  {
   "cell_type": "code",
   "execution_count": 6,
   "id": "30a95613-0dbd-4d88-8b67-d529fa399a9d",
   "metadata": {},
   "outputs": [],
   "source": [
    "# Example of * args\n",
    "def sum_num(* args):\n",
    "    total = 0\n",
    "    for i in args:\n",
    "        total = total + i\n",
    "    return total"
   ]
  },
  {
   "cell_type": "code",
   "execution_count": 7,
   "id": "5800c83a-26fd-45e3-bc65-112dfea0849a",
   "metadata": {},
   "outputs": [
    {
     "data": {
      "text/plain": [
       "150"
      ]
     },
     "execution_count": 7,
     "metadata": {},
     "output_type": "execute_result"
    }
   ],
   "source": [
    "sum_num(10,20,30,40,50)"
   ]
  },
  {
   "cell_type": "code",
   "execution_count": 8,
   "id": "c2a3f247-5f24-42b3-a9d7-5dc7f11ea16f",
   "metadata": {},
   "outputs": [],
   "source": [
    "# Example of ** kargs\n",
    "def dict_print(**kargs):\n",
    "    for key , value in kargs.items():\n",
    "        print(f\"{key} : {value}\")"
   ]
  },
  {
   "cell_type": "code",
   "execution_count": 9,
   "id": "a91b101e-a0d2-435b-827c-51abeb3aa954",
   "metadata": {},
   "outputs": [
    {
     "name": "stdout",
     "output_type": "stream",
     "text": [
      "Name : Tanmay\n",
      "Age : 21\n",
      "Course : Data Science masters 2.0\n"
     ]
    }
   ],
   "source": [
    "dict_print(Name = \"Tanmay\" , Age = 21 ,Course = \"Data Science masters 2.0\")"
   ]
  },
  {
   "cell_type": "markdown",
   "id": "fe8a9c7a-103c-4956-b030-82e247c40f97",
   "metadata": {},
   "source": [
    "Q3. What is an iterator in python? Name the method used to initialise the iterator object and the method\n",
    "used for iteration. Use these methods to print the first five elements of the given list [2, 4, 6, 8, 10, 12, 14,\n",
    "16, 18, 20]."
   ]
  },
  {
   "cell_type": "markdown",
   "id": "9bcf0849-ac87-4f4e-97b7-57000bc58385",
   "metadata": {},
   "source": [
    "Iterator : In python iterator is an object which can be used to  iterate over the iterable object like tuple,list,string etc. \n",
    "\n",
    "The method used to initialise the iterator object is \"iter()\". This is used to convert the iterable object into iterator.\n",
    "\n",
    "The method used for iteration is the \"next\". This is used to jump to next object while performing the iteration.\n"
   ]
  },
  {
   "cell_type": "code",
   "execution_count": 10,
   "id": "f9000359-146e-4a64-9dfe-3a10c4078bce",
   "metadata": {},
   "outputs": [
    {
     "name": "stdout",
     "output_type": "stream",
     "text": [
      "2\n",
      "4\n",
      "6\n",
      "8\n",
      "10\n",
      "12\n"
     ]
    }
   ],
   "source": [
    "list_data = [2,4,6,8,10,12,14,16,18,20]\n",
    "list_iter = iter(list_data)\n",
    "for i in range(6):\n",
    "    element = next(list_iter)\n",
    "    print(element)"
   ]
  },
  {
   "cell_type": "markdown",
   "id": "e5e2a151-7d47-4d0a-ad16-7e9e14d123fe",
   "metadata": {},
   "source": [
    "Q4. What is a generator function in python? Why yield keyword is used? Give an example of a generator\n",
    "function."
   ]
  },
  {
   "cell_type": "markdown",
   "id": "3d942d54-f7af-4d34-9bb9-30b82dc0a7a7",
   "metadata": {},
   "source": [
    "Generator Function: It is special type of function that generates the sequence of value using the yield function.\n",
    "\n",
    "Yield Keyword : The yield function is used to return the value to user one by one as the program excutes. It is used to create the generator function.\n",
    "\n"
   ]
  },
  {
   "cell_type": "code",
   "execution_count": 11,
   "id": "46519947-799b-4a3b-9c66-a682b5bdbd14",
   "metadata": {},
   "outputs": [
    {
     "name": "stdout",
     "output_type": "stream",
     "text": [
      "[1, 4, 9, 16, 25, 36, 49, 64, 81]\n"
     ]
    }
   ],
   "source": [
    "l1 = [1,2,3,4,5,6,7,8,9]\n",
    "def squ_num(a):\n",
    "    l2 = []\n",
    "    for i in a:\n",
    "        square = i ** 2\n",
    "        l2.append(square)\n",
    "    yield l2\n",
    "\n",
    "    \n",
    "\n",
    "square_num = squ_num(l1)\n",
    "for num in square_num:\n",
    "    print(num)"
   ]
  },
  {
   "cell_type": "markdown",
   "id": "c3fed81a-50e5-4871-961e-7e9d0ce2e12a",
   "metadata": {},
   "source": [
    "Q5. Create a generator function for prime numbers less than 1000. Use the next() method to print the\n",
    "first 20 prime numbers."
   ]
  },
  {
   "cell_type": "code",
   "execution_count": 12,
   "id": "1bf3d941-9452-487d-a69e-17c38dbcdbc3",
   "metadata": {},
   "outputs": [
    {
     "name": "stdout",
     "output_type": "stream",
     "text": [
      "2 3 5 7 11 13 17 19 23 29 31 37 41 43 47 53 59 61 67 71 "
     ]
    }
   ],
   "source": [
    "def is_prime(num):\n",
    "    if num < 2:\n",
    "        return False\n",
    "    for i in range(2,num):\n",
    "        if num % i == 0:\n",
    "            return False\n",
    "    return True\n",
    "\n",
    "def prime_generator(limit):\n",
    "    num = 2\n",
    "    while num < limit:\n",
    "        if is_prime(num):\n",
    "            yield num\n",
    "        num += 1\n",
    "\n",
    "primes_num = prime_generator(1000)\n",
    "for _ in range(20):\n",
    "    print(next(primes_num),end = \" \")\n"
   ]
  },
  {
   "cell_type": "markdown",
   "id": "55fc87cf-dc29-469f-a492-a56ddba30e52",
   "metadata": {},
   "source": [
    "Q6. Write a python program to print the first 10 Fibonacci numbers using a while loop."
   ]
  },
  {
   "cell_type": "code",
   "execution_count": 13,
   "id": "5537c5aa-94fc-46a6-adf4-7df6e85e036b",
   "metadata": {},
   "outputs": [
    {
     "name": "stdout",
     "output_type": "stream",
     "text": [
      "[0, 1, 1, 2, 3, 5, 8, 13, 21, 34]\n"
     ]
    }
   ],
   "source": [
    "def fib_num(n):\n",
    "    fib_list = []\n",
    "    a,b = 0,1\n",
    "    while len(fib_list) < n:\n",
    "        fib_list.append(a)\n",
    "        a,b = b , b+a\n",
    "    return fib_list\n",
    "fib_series = fib_num(10)\n",
    "print(fib_series)"
   ]
  },
  {
   "cell_type": "markdown",
   "id": "286037cb-b977-472a-9428-76892b4cb1f9",
   "metadata": {},
   "source": [
    "Q7. Write a List Comprehension to iterate through the given string: ‘pwskills’.\n",
    "Expected output: ['p', 'w', 's', 'k', 'i', 'l', 'l', 's']"
   ]
  },
  {
   "cell_type": "code",
   "execution_count": 14,
   "id": "1669761a-bb0b-4641-9236-d96b79b55027",
   "metadata": {},
   "outputs": [
    {
     "name": "stdout",
     "output_type": "stream",
     "text": [
      "['p', 'w', 's', 'k', 'i', 'l', 'l', 's']\n"
     ]
    }
   ],
   "source": [
    "s1 = \"pwskills\"\n",
    "s1_list = [s1_char for s1_char in s1]\n",
    "print(s1_list)"
   ]
  },
  {
   "cell_type": "markdown",
   "id": "a6cf2c6b-dbd7-4344-969a-a5b255136239",
   "metadata": {},
   "source": [
    "Q8. Write a python program to check whether a given number is Palindrome or not using a while loop."
   ]
  },
  {
   "cell_type": "code",
   "execution_count": 15,
   "id": "607cc6f3-5ad1-4f39-b1d8-da1b541802c2",
   "metadata": {},
   "outputs": [
    {
     "name": "stdin",
     "output_type": "stream",
     "text": [
      "Enter a number:  1234\n"
     ]
    },
    {
     "name": "stdout",
     "output_type": "stream",
     "text": [
      "The given number is not a palindrome. 1234\n"
     ]
    }
   ],
   "source": [
    "def is_palindrome(num):\n",
    "    original_number = num\n",
    "    reversed_number = 0\n",
    "    while num > 0:\n",
    "        remainder = num % 10\n",
    "        reversed_number = reversed_number * 10 + remainder\n",
    "        num = num // 10\n",
    "    if original_number == reversed_number:\n",
    "        return True\n",
    "    else:\n",
    "        return False\n",
    "num = int(input(\"Enter a number: \"))\n",
    "if is_palindrome(num):\n",
    "    print(\" The given number is a palindrome.\", num)\n",
    "else:\n",
    "    print(\"The given number is not a palindrome.\", num)\n"
   ]
  },
  {
   "cell_type": "markdown",
   "id": "bf25b535-5487-4bdb-99e4-c69d6dd56a78",
   "metadata": {},
   "source": [
    "Q9. Write a code to print odd numbers from 1 to 100 using list comprehension."
   ]
  },
  {
   "cell_type": "code",
   "execution_count": 16,
   "id": "191e6134-343d-42cd-81ac-cf5e617e8fbd",
   "metadata": {},
   "outputs": [
    {
     "name": "stdout",
     "output_type": "stream",
     "text": [
      "[1, 2, 3, 4, 5, 6, 7, 8, 9, 10, 11, 12, 13, 14, 15, 16, 17, 18, 19, 20, 21, 22, 23, 24, 25, 26, 27, 28, 29, 30, 31, 32, 33, 34, 35, 36, 37, 38, 39, 40, 41, 42, 43, 44, 45, 46, 47, 48, 49, 50, 51, 52, 53, 54, 55, 56, 57, 58, 59, 60, 61, 62, 63, 64, 65, 66, 67, 68, 69, 70, 71, 72, 73, 74, 75, 76, 77, 78, 79, 80, 81, 82, 83, 84, 85, 86, 87, 88, 89, 90, 91, 92, 93, 94, 95, 96, 97, 98, 99, 100]\n"
     ]
    }
   ],
   "source": [
    "number = [i for i in range(1,101)]\n",
    "print(number)"
   ]
  },
  {
   "cell_type": "code",
   "execution_count": 17,
   "id": "a2d060a1-dcad-41a3-8fae-0a43ad7fdfea",
   "metadata": {},
   "outputs": [
    {
     "name": "stdout",
     "output_type": "stream",
     "text": [
      "[1, 3, 5, 7, 9, 11, 13, 15, 17, 19, 21, 23, 25, 27, 29, 31, 33, 35, 37, 39, 41, 43, 45, 47, 49, 51, 53, 55, 57, 59, 61, 63, 65, 67, 69, 71, 73, 75, 77, 79, 81, 83, 85, 87, 89, 91, 93, 95, 97, 99]\n"
     ]
    }
   ],
   "source": [
    "odd_num = [odd_num_list for odd_num_list in number if odd_num_list % 2 != 0]\n",
    "print(odd_num)"
   ]
  }
 ],
 "metadata": {
  "kernelspec": {
   "display_name": "Python 3 (ipykernel)",
   "language": "python",
   "name": "python3"
  },
  "language_info": {
   "codemirror_mode": {
    "name": "ipython",
    "version": 3
   },
   "file_extension": ".py",
   "mimetype": "text/x-python",
   "name": "python",
   "nbconvert_exporter": "python",
   "pygments_lexer": "ipython3",
   "version": "3.10.8"
  }
 },
 "nbformat": 4,
 "nbformat_minor": 5
}
